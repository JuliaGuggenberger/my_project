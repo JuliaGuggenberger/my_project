{
 "cells": [
  {
   "cell_type": "markdown",
   "id": "9684785d",
   "metadata": {},
   "source": [
    "## Analysis of the results"
   ]
  }
 ],
 "metadata": {
  "language_info": {
   "name": "python"
  }
 },
 "nbformat": 4,
 "nbformat_minor": 5
}
